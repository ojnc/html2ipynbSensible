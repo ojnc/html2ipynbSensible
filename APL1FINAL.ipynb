{
 "cells": [
  {
   "cell_type": "markdown",
   "id": "98807c50",
   "metadata": {},
   "source": [
    "**Skip to Content**\n",
    "  __\n",
    " SAP Community Log-in Update\n",
    " In a few months, SAP Community will switch to SAP Universal ID as the only option to login. Don’t wait, create your SAP Universal ID\n",
    " now\\! If you have multiple S- or P- accounts, use the Consolidation Tool to merge your content.\n",
    " Get started with SAP Universal ID\n",
    "  __\n",
    "   - Home\n",
    "   - Community\n",
    "   - Ask a Question\n",
    "   - Write a Blog Post\n",
    "   - Login / Sign-up\n",
    "   -\n",
    " ###### Technical Articles\n",
    " Andreas Forster\n",
    " __\n",
    " July 27, 2020 21 minute read\n",
    " # Hands-On Tutorial: Automated Predictive \\(APL\\) in SAP HANA Cloud\n",
    " __14 __37 __7,162\n",
    " SAP HANA Cloud now includes the Automated Predictive Library \\(APL\\). Find out how to train ML models within SAP HANA Cloud\n",
    " automatically, without having to extract the data. Use the familiar SAP HANA Python Client API for ML to trigger the required\n",
    " calculations in the SAP HANA Cloud straight from your preferred Python environment. Most of the code is also relevant for SAP HANA\n",
    " on-premise.\n",
    " If you are in a hurry, you can read through this blog to become familiar with this concept. If you want to dig deep, you can follow\n",
    " the implementation steps and learn hands-on.\n",
    " This blog was written by both Marc Daniau \\(Product Expert, SAP\\) and Andreas FORSTER \\(Global Center of Excellence, SAP\\).\n",
    " Therefore, the term \"we\" in this blog refers to ourselves, Marc and Andreas, and not necessarily SAP. There is no guarantee or\n",
    " support for any information or code in this blog. Please test any content that you may want to use yourself.\n",
    " Our thanks go to Frank Gottfried, Christoph Morgen and Raymond Yao for their help in putting this tutorial together\\!\n",
    " # Table of contents\n",
    "   - Introduction / Use case\n",
    "   - Setup SAP HANA Cloud\n",
    "   - Setup local Python\n",
    "   - Create SAP HANA user\n",
    "   - Data upload\n",
    "   - Data exploration\n",
    "   - Train ML model\n",
    "   - Apply ML model\n",
    "   - Deployment\n",
    "   - Summary\n",
    " # Introduction / Use case\n",
    " SAP HANA Cloud is the latest evolution of SAP HANA. Released in March 2020, it combines the technology known from the on-premise\n",
    " version of SAP HANA with cloud benefits such as scalability.\n",
    " It contains many of the known SAP HANA engines, such as the Automated Predictive Library \\(APL\\). The APL, which is a highly\n",
    " automated ML framework, has also been evolving and now includes a \"Gradient Boosting Classification\". This new Gradient Boosting\n",
    " Classification automates the process of finding an ML model, similar to the previous APL. The new Gradient Classification approach\n",
    " however tends to result in stronger models. Since the APL product group is focussing further improving this approach, we suggest\n",
    " working with the new \"Gradient Boosting Classification\", as we do in this blog.\n",
    " The APL can be called through SQL or directly from Python. In this blog we make use of Python and the corresponding library\n",
    " hana\\_ml, which simplifies the calling of SAP HANA functionality. We will call the APL, but the library can also call the Predictive\n",
    " Algorithm Library \\(PAL\\).\n",
    " As example to work with the Gradient Boosting Classification, we will predict the affinity of a Banking customer to sign up for a\n",
    " term deposit, in which money can be locked for a certain period and accrues higher interest rates.\n",
    " # Setup SAP HANA Cloud\n",
    " To implement this Bank Marketing scenario you need access to SAP HANA Cloud. This SAP HANA Cloud with the following configuration:\n",
    "   - It must have at least 3 virtual CPUs \\(vCPUs\\). The current SAP HANA Cloud Trial comes only with 2 vCPUs. In that trial it is not possible to increase the number of vCPUs. Therefore you must create your own instance of SAP HANA Cloud in the SAP Cloud Platform Cockpit as described in this playlist from the SAP HANA Academy, which also contains plenty of additional material.\n",
    "   - Your SAP HANA Cloud must have the Script Server enabled to be able to use the Automated Predictive Library \\(APL\\). For a new SAP HANA Cloud instance the Script Server can be enabled when creating the instance. For existing sytems, the Script Server can be activated with a Service Request.\n",
    "   - Your SAP HANA Cloud must permit connections from your IP address, e.g. by selecting \"Allow all IP addresses\".\n",
    " The \"Getting Started with SAP HANA Cloud\" guide also gives an excellent overview, just bear in mind that you cannot use the trial\n",
    " environment to implement this blog's hands-on scenario. Denys van Kempen has also put together a huge collection of SAP HANA Cloud\n",
    " material. In case you might be a little puzzled about the different version of SAP HANA that have been around, Denys has also\n",
    " created a SAP \\(HANA\\) Cheat Sheet.\n",
    " There is also a Learning Article on Using Jupyter Notebooks with SAP HANA Cloud that helps with the first steps.\n",
    " To continue hands-on, you need to know:\n",
    "   - The SAP HANA Cloud endpoint \\(e.g. xyz.hanacloud.ondemand.com\\)\n",
    "   - The HTTPS port, which is always 443\n",
    "   - The password for the DBADMIN user\n",
    " # Setup local Python\n",
    " You need an environment to execute Python code. In case you already have an environment to work with, please use it. In case you are\n",
    " new to Python, we suggest installing Anaconda, which will install and configure everything that is needed.\n",
    " Once you have downloaded and installed Anaconda, open the Anaconda Navigator and select JupyterLab.\n",
    " An alternative, and much faster, approach to open JupyterLab is through the Anaconda Prompt. Open the Anaconda Prompt, then type:\n",
    " jupyter lab\n",
    " If you haven't worked with JupyterLab so far, not to worry It's easy to find your way around. One very useful introduction for the\n",
    " first steps is this tutorial from the California Institute of Technology \\(Caltech\\).\n",
    " With Python at your fingertips, create a new Python 3 Notebook and install SAP's hana\\_ml library, which provides the connectivity\n",
    " and push-down to the SAP HANA Cloud."
   ]
  },
  {
   "cell_type": "code",
   "execution_count": null,
   "id": "5e30e261",
   "metadata": {},
   "outputs": [],
   "source": [
    "!pip install hana_ml"
   ]
  },
  {
   "cell_type": "markdown",
   "id": "2cf7da4a",
   "metadata": {},
   "source": [
    "After installation, check on the version that has been installed."
   ]
  },
  {
   "cell_type": "code",
   "execution_count": null,
   "id": "1ce650c0",
   "metadata": {},
   "outputs": [],
   "source": [
    "import hana_ml\n",
    "print(hana_ml.__version__)"
   ]
  },
  {
   "cell_type": "markdown",
   "id": "a45a71e4",
   "metadata": {},
   "source": [
    "You should have at least version 2.5.20062605 for connecting to SAP HANA Cloud. This tutorial was tested with version 2.5.20062609.\n",
    " # Create SAP HANA user\n",
    " Test the connectivity by running a very simple SELECT statement. You will need the SAP HANA Cloud endpoint, HDB port and the DBADMIN\n",
    " user's password. Here we see the password in clear text only for a quick test. Later on, we will securely store the passwords."
   ]
  },
  {
   "cell_type": "code",
   "execution_count": null,
   "id": "a688568e",
   "metadata": {},
   "outputs": [],
   "source": [
    "import hana_ml.dataframe as dataframe\n",
    "# Instantiate connection object\n",
    "conn = dataframe.ConnectionContext(address = 'yourendpoint',\n",
    "                                   port = 443,\n",
    "                                   user = 'DBADMIN',\n",
    "                                   password = 'yourpassword',\n",
    "                                   encrypt = 'true',\n",
    "                                   sslValidateCertificate = 'false'\n",
    "                                  )\n",
    "# Send basic SELECT statement and display the result\n",
    "sql = 'SELECT 12345 FROM DUMMY'\n",
    "df_remote = conn.sql(sql)\n",
    "print(df_remote.collect())"
   ]
  },
  {
   "cell_type": "markdown",
   "id": "03d6f78f",
   "metadata": {},
   "source": [
    "If everything works as expected, the code should return the value 12345. Later on you will see how to keep the password secure. For\n",
    " now we continue with the connection to create a user on the SAP HANA Cloud to call the Automated Predictive Library.\n",
    " Create a user called ML, just change the password."
   ]
  },
  {
   "cell_type": "code",
   "execution_count": null,
   "id": "5fcc2948",
   "metadata": {},
   "outputs": [],
   "source": [
    "cursor = conn.connection.cursor()\n",
    "cursor.execute('CREATE USER ML Password \"YOURPASSWORD\" SET USERGROUP DEFAULT;')"
   ]
  },
  {
   "cell_type": "markdown",
   "id": "c608f276",
   "metadata": {},
   "source": [
    "Keep things simple by specifying that the user does not have to change the password. Note that this is recommended only for\n",
    " technical users."
   ]
  },
  {
   "cell_type": "code",
   "execution_count": null,
   "id": "f60f0956",
   "metadata": {},
   "outputs": [],
   "source": [
    "cursor.execute('ALTER USER ML DISABLE PASSWORD LIFETIME;')"
   ]
  },
  {
   "cell_type": "markdown",
   "id": "c95aec16",
   "metadata": {},
   "source": [
    "Grant the new ML user the right to call the Automated Predictive Library."
   ]
  },
  {
   "cell_type": "code",
   "execution_count": null,
   "id": "f6d72a31",
   "metadata": {},
   "outputs": [],
   "source": [
    "cursor.execute('GRANT \"sap.pa.apl.base.roles::APL_EXECUTE\" TO ML')"
   ]
  },
  {
   "cell_type": "markdown",
   "id": "cd091b33",
   "metadata": {},
   "source": [
    "Grant the ML user the right to call the Predictive Algorithm Library. This right is needed in this tutorial only so that the Boxplot\n",
    " that you will see later can be calculated in SAP HANA."
   ]
  },
  {
   "cell_type": "code",
   "execution_count": null,
   "id": "18303ae0",
   "metadata": {},
   "outputs": [],
   "source": [
    "cursor.execute('GRANT \"AFL__SYS_AFL_AFLPAL_EXECUTE_WITH_GRANT_OPTION\" TO ML')"
   ]
  },
  {
   "cell_type": "markdown",
   "id": "8416087f",
   "metadata": {},
   "source": [
    "Close the connection that was established with the DBADMIN user. From now on, we will use only the ML user."
   ]
  },
  {
   "cell_type": "code",
   "execution_count": null,
   "id": "b8af98ca",
   "metadata": {},
   "outputs": [],
   "source": [
    "cursor.close()"
   ]
  },
  {
   "cell_type": "markdown",
   "id": "d813f96a",
   "metadata": {},
   "source": [
    "However, we don't want to have the password visible in clear text. Use the Secure User Store from the SAP HANA client to securely\n",
    " store the logon credentials.\n",
    " Navigate in a command prompt \\(cmd.exe\\) to the folder that contains the hdbuserstore, e.g.\n",
    " C:\\Program Files\\SAP\\hdbclient\n",
    " Then store the logon parameters in the Secure User Store, by calling the hdbuserstore application. In the example below the\n",
    " parameters are saved under a key called MYHANACLOUD. You are free to chose your own name.\n",
    " C:\\Program Files\\SAP\\hdbclient>hdbuserstore -i SET MYHANACLOUD “YOURENDPOINT:PORT” ML\n",
    " The password is not specified in the above command as you will be prompted for it. Just note that the logon credentials have not\n",
    " been tested yet. They have only been saved.\n",
    " Use the stored credentials to logon without having to show the password."
   ]
  },
  {
   "cell_type": "code",
   "execution_count": null,
   "id": "66d94c3a",
   "metadata": {},
   "outputs": [],
   "source": [
    "import hana_ml.dataframe as dataframe\n",
    "# Instantiate connection object\n",
    "conn = dataframe.ConnectionContext(userkey = 'MYHANACLOUD',\n",
    "                                   encrypt = 'true')\n",
    "# Send basic SELECT statement and display the result\n",
    "sql = 'SELECT 12345 FROM DUMMY'\n",
    "df_remote = conn.sql(sql)\n",
    "print(df_remote.collect())\n",
    "# Close connection\n",
    "conn.close()"
   ]
  },
  {
   "cell_type": "markdown",
   "id": "6fecb64f",
   "metadata": {},
   "source": [
    "The result of the SELECT statement has not changed of course. Now you are good to keep working with the ML user.\n",
    " # Data upload\n",
    " Your system is ready. Now you need to fill it with data to work with. We will be working with the \"Bank Marketing Data Set\" as\n",
    " shared by the UC Irvine Machine Learning Repository. Download bank.zip and extract the file bank-full.csv.\n",
    " Place the bank-full.csv into your JupyterLab environment, for example by uploading it through the File Browser.\n",
    " Create another Python 3 Notebook and rename it to \"10 data upload\". Begin with loading the CSV file into a Pandas DataFrame."
   ]
  },
  {
   "cell_type": "code",
   "execution_count": null,
   "id": "2c59f8d9",
   "metadata": {},
   "outputs": [],
   "source": [
    "import pandas as pd\n",
    "df_data = pd.read_csv('bank-full.csv', sep = ';')\n",
    "df_data.head(5)"
   ]
  },
  {
   "cell_type": "markdown",
   "id": "9ea1852e",
   "metadata": {},
   "source": [
    "Before uploading the data to SAP HANA Cloud, carry out a few transformations. Turn the column headers into upper case."
   ]
  },
  {
   "cell_type": "code",
   "execution_count": null,
   "id": "f1f6854e",
   "metadata": {},
   "outputs": [],
   "source": [
    "df_data.columns = map(str.upper, df_data.columns)"
   ]
  },
  {
   "cell_type": "markdown",
   "id": "f432b49a",
   "metadata": {},
   "source": [
    "Drop the DURATION column. It tells how many minutes the calls lasted when the term deposit was promoted. This column cannot be used\n",
    " as predictor to score a person's interest in signing up for the product. Before we call the person, we don't know the length of the\n",
    " phone call. Hence remove it from the DataFrame."
   ]
  },
  {
   "cell_type": "code",
   "execution_count": null,
   "id": "38af30a2",
   "metadata": {},
   "outputs": [],
   "source": [
    "df_data = df_data.drop(['DURATION'],\n",
    "                       axis = 1)"
   ]
  },
  {
   "cell_type": "markdown",
   "id": "058db81b",
   "metadata": {},
   "source": [
    "The target column is currently called just 'Y'. Rename it to something more self-explanatory."
   ]
  },
  {
   "cell_type": "code",
   "execution_count": null,
   "id": "2e1f6fff",
   "metadata": {},
   "outputs": [],
   "source": [
    "df_data = df_data.rename(index = str, columns = {'Y': 'PURCHASE'})"
   ]
  },
  {
   "cell_type": "markdown",
   "id": "69698b7e",
   "metadata": {},
   "source": [
    "Add an ID column."
   ]
  },
  {
   "cell_type": "code",
   "execution_count": null,
   "id": "0d8fe742",
   "metadata": {},
   "outputs": [],
   "source": [
    "df_data.insert(0, 'CUSTOMER_ID', df_data.reset_index().index)"
   ]
  },
  {
   "cell_type": "markdown",
   "id": "80002e6c",
   "metadata": {},
   "source": [
    "Preview a few rows of the transformed data."
   ]
  },
  {
   "cell_type": "code",
   "execution_count": null,
   "id": "8beb40dd",
   "metadata": {},
   "outputs": [],
   "source": [
    "df_data.head(5)"
   ]
  },
  {
   "cell_type": "markdown",
   "id": "9a02b1ea",
   "metadata": {},
   "source": [
    "We are happy with the data, so upload it to SAP HANA Cloud. Establish a connection with the hana\\_ml wrapper…"
   ]
  },
  {
   "cell_type": "code",
   "execution_count": null,
   "id": "82bd4014",
   "metadata": {},
   "outputs": [],
   "source": [
    "import hana_ml.dataframe as dataframe\n",
    "conn = dataframe.ConnectionContext(userkey = 'MYHANACLOUD',\n",
    "                                   encrypt = 'true')"
   ]
  },
  {
   "cell_type": "markdown",
   "id": "dd8c8d7e",
   "metadata": {},
   "source": [
    "… and upload the Pandas DataFrame into a table called BANKMARKETING."
   ]
  },
  {
   "cell_type": "code",
   "execution_count": null,
   "id": "40da6ef9",
   "metadata": {},
   "outputs": [],
   "source": [
    "df_remote = dataframe.create_dataframe_from_pandas(connection_context = conn,\n",
    "                                                   pandas_df = df_data,\n",
    "                                                   table_name = 'BANKMARKETING',\n",
    "                                                   force = True,\n",
    "                                                   replace = False)"
   ]
  },
  {
   "cell_type": "markdown",
   "id": "b39d7de2",
   "metadata": {},
   "source": [
    "Once we have trained a Machine Learning model, we want to apply it on new data. Therefore create a second table, in which you load\n",
    " two rows of \"invented\" customers, whose behaviour will be predicted.\n",
    " Create a new DataFrame, just without the target column."
   ]
  },
  {
   "cell_type": "code",
   "execution_count": null,
   "id": "7c95727c",
   "metadata": {},
   "outputs": [],
   "source": [
    "df_topredict = pd.DataFrame(data = None,\n",
    "                            columns = df_data.columns.drop('PURCHASE'))\n",
    "for xx in df_topredict.columns:\n",
    "    df_topredict[xx] = df_topredict[xx].astype(df_data[xx].dtypes.name)"
   ]
  },
  {
   "cell_type": "markdown",
   "id": "410f6efa",
   "metadata": {},
   "source": [
    "Add the two imaginary customers."
   ]
  },
  {
   "cell_type": "code",
   "execution_count": null,
   "id": "b7b13558",
   "metadata": {},
   "outputs": [],
   "source": [
    "df_topredict = pd.concat([df_topredict, pd.DataFrame({'CUSTOMER_ID': 1,\n",
    "                                    'AGE': 40,\n",
    "                                    'JOB': 'entrepreneur',\n",
    "                                    'MARITAL': 'married',\n",
    "                                    'EDUCATION': 'secondary',\n",
    "                                    'DEFAULT': 'no',\n",
    "                                    'BALANCE': 3000,\n",
    "                                    'HOUSING': 'yes',\n",
    "                                    'LOAN': 'no',\n",
    "                                    'CONTACT': 'unknown',\n",
    "                                    'DAY': 10,\n",
    "                                    'MONTH': 'may',\n",
    "                                    'CAMPAIGN': 1,\n",
    "                                    'PDAYS': -1,\n",
    "                                    'PREVIOUS': 0,\n",
    "                                    'POUTCOME': 'unknown'}, index=[0])])\n",
    "df_topredict = pd.concat([df_topredict, pd.DataFrame({'CUSTOMER_ID': 2,\n",
    "                                    'AGE': 65,\n",
    "                                    'JOB': 'management',\n",
    "                                    'MARITAL': 'single',\n",
    "                                    'EDUCATION': 'tertiary',\n",
    "                                    'DEFAULT': 'no',\n",
    "                                    'BALANCE': 3000,\n",
    "                                    'HOUSING': 'no',\n",
    "                                    'LOAN': 'no',\n",
    "                                    'CONTACT': 'telephone',\n",
    "                                    'DAY': 10,\n",
    "                                    'MONTH': 'mar',\n",
    "                                    'CAMPAIGN': 1,\n",
    "                                    'PDAYS': -1,\n",
    "                                    'PREVIOUS': 12,\n",
    "                                    'POUTCOME': 'success'}, index=[0])])"
   ]
  },
  {
   "cell_type": "markdown",
   "id": "a3efa096",
   "metadata": {},
   "source": [
    "Upload the new Pandas DataFrame into a table called BANKMARKETING\\_TOPREDICT."
   ]
  },
  {
   "cell_type": "code",
   "execution_count": null,
   "id": "44084c95",
   "metadata": {},
   "outputs": [],
   "source": [
    "df_remote = dataframe.create_dataframe_from_pandas(connection_context = conn,\n",
    "                                                   pandas_df = df_topredict,\n",
    "                                                   table_name = 'BANKMARKETING_TOPREDICT',\n",
    "                                                   force = True,\n",
    "                                                   replace = False)"
   ]
  },
  {
   "cell_type": "markdown",
   "id": "fadab732",
   "metadata": {},
   "source": [
    "# Data exploration\n",
    " Now the real fun can start. Begin the Data Science part by exploring the data that we have to work with. Create a new Python 3\n",
    " Notebook called \"20 Data exploration\".\n",
    " Connect to SAP HANA Cloud."
   ]
  },
  {
   "cell_type": "code",
   "execution_count": null,
   "id": "8644ae0e",
   "metadata": {},
   "outputs": [],
   "source": [
    "import hana_ml.dataframe as dataframe\n",
    "conn = dataframe.ConnectionContext(userkey = 'MYHANACLOUD',\n",
    "                                   encrypt = 'true')"
   ]
  },
  {
   "cell_type": "markdown",
   "id": "e9ca717d",
   "metadata": {},
   "source": [
    "Create a SAP HANA dataframe and point it to the table with the uploaded data. Sort the dataframe to ensure reproducibility."
   ]
  },
  {
   "cell_type": "code",
   "execution_count": null,
   "id": "0a6f2e28",
   "metadata": {},
   "outputs": [],
   "source": [
    "df_remote = conn.table(table = 'BANKMARKETING', schema = 'ML').sort('CUSTOMER_ID', desc = False)\n",
    "df_remote.head(5).collect()"
   ]
  },
  {
   "cell_type": "markdown",
   "id": "402addd3",
   "metadata": {},
   "source": [
    "Alternatively, you can also base the SAP HANA dataframe on a SELECT statement."
   ]
  },
  {
   "cell_type": "code",
   "execution_count": null,
   "id": "30e80384",
   "metadata": {},
   "outputs": [],
   "source": [
    "df_remote = conn.sql('SELECT * FROM \"ML\".\"BANKMARKETING\" ORDER BY \"CUSTOMER_ID\" ASC')\n",
    "df_remote.head(5).collect()"
   ]
  },
  {
   "cell_type": "markdown",
   "id": "f8b41c42",
   "metadata": {},
   "source": [
    "Start exploring with the basics. How many rows are in the source?"
   ]
  },
  {
   "cell_type": "code",
   "execution_count": null,
   "id": "385d9adc",
   "metadata": {},
   "outputs": [],
   "source": [
    "df_remote.count()"
   ]
  },
  {
   "cell_type": "markdown",
   "id": "9057ccf8",
   "metadata": {},
   "source": [
    "45211\\. This value was calculated by SAP HANA. Only the final outcome was transferred back to Python.\n",
    " What are the names and types of the data columns?"
   ]
  },
  {
   "cell_type": "code",
   "execution_count": null,
   "id": "2caef250",
   "metadata": {},
   "outputs": [],
   "source": [
    "df_remote.dtypes()"
   ]
  },
  {
   "cell_type": "markdown",
   "id": "bccc86bc",
   "metadata": {},
   "source": [
    "Each column is listed with its name, type and size. The last two values are relevant when the data type is DECIMAL or SPATIAL.\n",
    " Now get some detailed column statistics, similar to how Pandas describes a DataFrame."
   ]
  },
  {
   "cell_type": "code",
   "execution_count": null,
   "id": "50eff462",
   "metadata": {},
   "outputs": [],
   "source": [
    "df_remote.describe().collect()"
   ]
  },
  {
   "cell_type": "markdown",
   "id": "33b8c2e5",
   "metadata": {},
   "source": [
    "It's not obvious by looking at this table, but each cell was calculated in SAP HANA Cloud. The massive SQL statement that was\n",
    " created by the hana\\_ml wrapper can be retrieved."
   ]
  },
  {
   "cell_type": "code",
   "execution_count": null,
   "id": "cdb0387d",
   "metadata": {},
   "outputs": [],
   "source": [
    "df_remote.describe().select_statement"
   ]
  },
  {
   "cell_type": "markdown",
   "id": "b894949b",
   "metadata": {},
   "source": [
    "Look closer at the target variable. How many people bought the product? And how much is that in percent?"
   ]
  },
  {
   "cell_type": "code",
   "execution_count": null,
   "id": "8ca93542",
   "metadata": {},
   "outputs": [],
   "source": [
    "top_n = 5\n",
    "variable_name = 'PURCHASE'\n",
    "# Get Top N categories\n",
    "total_count = df_remote.count()\n",
    "df_remote_col_frequency = df_remote.agg([('count', variable_name, 'COUNT')],  group_by = variable_name)\n",
    "df_col_frequency = df_remote_col_frequency.sort(\"COUNT\", desc = True).head(top_n).collect()\n",
    "df_col_frequency['PERCENT'] = round(df_col_frequency['COUNT'] / total_count, 2)\n",
    "df_col_frequency.style.format({'COUNT':'{0:,.0f}', 'PERCENT':'{0:,.1%}'}).hide(axis='index')"
   ]
  },
  {
   "cell_type": "markdown",
   "id": "f2557f08",
   "metadata": {},
   "source": [
    "A plot also helps to quickly understand the numbers."
   ]
  },
  {
   "cell_type": "code",
   "execution_count": null,
   "id": "ce3b9c63",
   "metadata": {},
   "outputs": [],
   "source": [
    "%matplotlib inline\n",
    "df_col_frequency.plot.bar(x = 'PURCHASE', y = 'COUNT', title = 'Top ' + str(top_n));"
   ]
  },
  {
   "cell_type": "markdown",
   "id": "fe8ca536",
   "metadata": {},
   "source": [
    "Use a box plot to compare the buyers from the non-buyers based on the balance in their bank account."
   ]
  },
  {
   "cell_type": "code",
   "execution_count": null,
   "id": "158b6a3d",
   "metadata": {},
   "outputs": [],
   "source": [
    "import matplotlib.pyplot as plt\n",
    "from hana_ml.visualizers.eda import EDAVisualizer\n",
    "f = plt.figure()\n",
    "ax1 = f.add_subplot(111) # 111 refers to 1x1 grid, 1st subplot\n",
    "eda = EDAVisualizer(ax1)\n",
    "ax, cont = eda.box_plot(data = df_remote, column = 'BALANCE', groupby = 'PURCHASE', outliers = True)"
   ]
  },
  {
   "cell_type": "markdown",
   "id": "e2bb21b8",
   "metadata": {},
   "source": [
    "That's a bit of a surprise. The contacts with the highest balances did not sign up for the term deposit. We are ready to train our\n",
    " Machine Learning model.\n",
    " # Train ML model\n",
    " Create a new Python 3 Notebook called “30 Train ML model”.\n",
    " Connect to SAP HANA Cloud."
   ]
  },
  {
   "cell_type": "code",
   "execution_count": null,
   "id": "af05496b",
   "metadata": {},
   "outputs": [],
   "source": [
    "import hana_ml.dataframe as dataframe\n",
    "conn = dataframe.ConnectionContext(userkey = 'MYHANACLOUD',\n",
    "                                   encrypt = 'true')"
   ]
  },
  {
   "cell_type": "markdown",
   "id": "bb26179c",
   "metadata": {},
   "source": [
    "Create a SAP HANA dataframe and point it to the table with the uploaded data. Sort the dataframe to ensure reproducibility.\n",
    " Alternatively, you can also base the SAP HANA dataframe on a SELECT statement as shown in the above \"Data exploration\" chapter."
   ]
  },
  {
   "cell_type": "code",
   "execution_count": null,
   "id": "646fd00f",
   "metadata": {},
   "outputs": [],
   "source": [
    "df_remote = conn.table(table = 'BANKMARKETING', schema = 'ML').sort('CUSTOMER_ID', desc = False)\n",
    "df_remote.head(5).collect()"
   ]
  },
  {
   "cell_type": "markdown",
   "id": "7146e831",
   "metadata": {},
   "source": [
    "Create an object of type GradientBoostingBinaryClassifier, which will train the APL model."
   ]
  },
  {
   "cell_type": "code",
   "execution_count": null,
   "id": "0c902435",
   "metadata": {},
   "outputs": [],
   "source": [
    "from hana_ml.algorithms.apl.gradient_boosting_classification import GradientBoostingBinaryClassifier\n",
    "gbapl_model = GradientBoostingBinaryClassifier()"
   ]
  },
  {
   "cell_type": "markdown",
   "id": "5797b0c7",
   "metadata": {},
   "source": [
    "Specify the target variable and the value the model should predict. By default the model will predict the occurrence of the less\n",
    " frequent value. Even though we want to predict the less common behaviour. it's prudent to be specific, which also helps document the\n",
    " model behaviour."
   ]
  },
  {
   "cell_type": "code",
   "execution_count": null,
   "id": "faaf7dbf",
   "metadata": {},
   "outputs": [],
   "source": [
    "col_target = 'PURCHASE'\n",
    "target_value = 'yes'"
   ]
  },
  {
   "cell_type": "markdown",
   "id": "b2605cce",
   "metadata": {},
   "source": [
    "Specify the ID column."
   ]
  },
  {
   "cell_type": "code",
   "execution_count": null,
   "id": "bc010a02",
   "metadata": {},
   "outputs": [],
   "source": [
    "col_id = 'CUSTOMER_ID'"
   ]
  },
  {
   "cell_type": "markdown",
   "id": "2585cbd6",
   "metadata": {},
   "source": [
    "Specify the predictor columns. Just remove the target and id columns."
   ]
  },
  {
   "cell_type": "code",
   "execution_count": null,
   "id": "ffefe1fa",
   "metadata": {},
   "outputs": [],
   "source": [
    "col_predictors = df_remote.columns\n",
    "col_predictors.remove(col_target)\n",
    "col_predictors.remove(col_id)\n",
    "col_predictors"
   ]
  },
  {
   "cell_type": "markdown",
   "id": "4219fa37",
   "metadata": {},
   "source": [
    "Further configure how the model will be trained."
   ]
  },
  {
   "cell_type": "code",
   "execution_count": null,
   "id": "1b3b93ac",
   "metadata": {},
   "outputs": [],
   "source": [
    "gbapl_model.set_params(eval_metric = 'AUC') # Metric used to evaluate the model performance\n",
    "gbapl_model.set_params(cutting_strategy = 'random with no test') # Internal splitting strategy\n",
    "gbapl_model.set_params(other_train_apl_aliases={'APL/VariableAutoSelection': 'true',\n",
    "                                                'APL/Interactions': 'true',\n",
    "                                                'APL/InteractionsMaxKept': 10,\n",
    "                                                'APL/TargetKey': target_value})"
   ]
  },
  {
   "cell_type": "markdown",
   "id": "0942119f",
   "metadata": {},
   "source": [
    "Start the learning process. This might take a minute to calculate. The APL is now automatically going through the steps a Data\n",
    " Scientist would have to carry out manually. It is pre-processing the data, e.g. with binning, grouping or imputation, before\n",
    " calculating and testing different Gradient Boosting models."
   ]
  },
  {
   "cell_type": "code",
   "execution_count": null,
   "id": "866e8149",
   "metadata": {},
   "outputs": [],
   "source": [
    "gbapl_model.fit(data = df_remote,\n",
    "                key = col_id,\n",
    "                features = col_predictors,\n",
    "                label = col_target)"
   ]
  },
  {
   "cell_type": "markdown",
   "id": "d078a9a2",
   "metadata": {},
   "source": [
    "When the model has been found, look at it's quality metric."
   ]
  },
  {
   "cell_type": "code",
   "execution_count": null,
   "id": "5361b691",
   "metadata": {},
   "outputs": [],
   "source": [
    "import pandas as pd\n",
    "list_performance = gbapl_model.get_performance_metrics()\n",
    "df_performance = pd.DataFrame(list(list_performance.items()), columns=['METRIC', 'VALUE'])\n",
    "df_performance.loc[df_performance['METRIC'].isin(['AUC', 'BestIteration'])].style.hide(axis='index')"
   ]
  },
  {
   "cell_type": "markdown",
   "id": "afdeaa96",
   "metadata": {},
   "source": [
    "We have an AUC of 0.82. The model was found in iteration number 276 in our case. A lot more information is available about the\n",
    " model. Looks at the basics, how many variables and records were used?"
   ]
  },
  {
   "cell_type": "code",
   "execution_count": null,
   "id": "43537911",
   "metadata": {},
   "outputs": [],
   "source": [
    "df_summary = gbapl_model.get_summary().filter(\"KEY in ('ModelVariableCount', 'ModelSelectedVariableCount', 'ModelRecordCount', 'ModelBuildDate')\").collect()\n",
    "df_summary = df_summary[['KEY','VALUE']]\n",
    "df_summary['KEY'] = df_summary['KEY'].str.replace('Model', '').str.replace('Selected', 'Selected ')\n",
    "df_summary['KEY'] = df_summary['KEY'].str.replace('Count', ' Count').str.replace('Date', ' Date')\n",
    "df_summary.style.hide(axis='index')"
   ]
  },
  {
   "cell_type": "markdown",
   "id": "725a13d3",
   "metadata": {},
   "source": [
    "All records from the dataset were used of course. You had provided 15 different variables for the model to consider. Plus the target\n",
    " variable \\(PURCHASE\\) and the ID \\(CUSTOMER\\_ID\\) in total 17 variables were touched.\n",
    " Before looking deeper at the variables that were selected for the models, which ones have been excluded?"
   ]
  },
  {
   "cell_type": "code",
   "execution_count": null,
   "id": "87270f26",
   "metadata": {},
   "outputs": [],
   "source": [
    "df_excluded = gbapl_model.get_indicators().filter(\"KEY like 'VariableExclusion%'\").collect()\n",
    "df_excluded = df_excluded[['VARIABLE','VALUE']]\n",
    "df_excluded.columns = ['Excluded Variable', 'Reason']\n",
    "df_excluded.style.hide(axis='index')"
   ]
  },
  {
   "cell_type": "markdown",
   "id": "0a8e0728",
   "metadata": {},
   "source": [
    "Three predictor variables were dropped. But how important are the chosen / remaining variables for the model? The APL provides\n",
    " detailed information about the model that helps understand the model's behaviour. This is often called Global Explainable ML / AI. A\n",
    " Data Scientist might be interested to know, that the feature importance is based on Shapley."
   ]
  },
  {
   "cell_type": "code",
   "execution_count": null,
   "id": "2a41f39f",
   "metadata": {},
   "outputs": [],
   "source": [
    "list_contributions = gbapl_model.get_feature_importances()['ExactSHAP']\n",
    "df_contribution = pd.DataFrame(list(list_contributions.items()), columns=['VARIABLE', 'CONTRIBUTION'])\n",
    "df_contribution['CUMULATIVE'] = df_contribution['CONTRIBUTION'].cumsum()\n",
    "format_dict = {'CONTRIBUTION':'{0:,.2%}','CUMULATIVE':'{0:,.2%}'}\n",
    "df_contribution.style.format(format_dict).hide(axis='index')"
   ]
  },
  {
   "cell_type": "markdown",
   "id": "18a89802",
   "metadata": {},
   "source": [
    "Most important is the CONTACT variable, followed by the MONTH in which the customer was contacted.\n",
    " A pareto plot helps see the importance of the variables. First ensure, that the seaborn package, which is used for the charting, is\n",
    " actually installed."
   ]
  },
  {
   "cell_type": "code",
   "execution_count": null,
   "id": "7db20a75",
   "metadata": {},
   "outputs": [],
   "source": [
    "!pip install seaborn"
   ]
  },
  {
   "cell_type": "markdown",
   "id": "5d3d61be",
   "metadata": {},
   "source": [
    "Now the plot can be created."
   ]
  },
  {
   "cell_type": "code",
   "execution_count": null,
   "id": "bb1f99a0",
   "metadata": {},
   "outputs": [],
   "source": [
    "import matplotlib.pyplot as plt\n",
    "import seaborn as sns\n",
    "from  matplotlib.ticker import PercentFormatter\n",
    "f = plt.figure()\n",
    "ax1 = f.add_subplot(111) # 111 refers to 1x1 grid, 1st subplot\n",
    "ax2 = ax1.twinx()\n",
    "sns.barplot(data = df_contribution,\n",
    "             x = 'VARIABLE',\n",
    "             y = 'CONTRIBUTION',\n",
    "             color = '#1f77b4',\n",
    "             ax=ax1)\n",
    "sns.lineplot(data = df_contribution, sort=False,\n",
    "             x = 'VARIABLE',\n",
    "             y = 'CUMULATIVE',\n",
    "             color = 'red',\n",
    "             ax=ax2)\n",
    "ax1.set_xticklabels(ax1.get_xticklabels(),rotation=30)\n",
    "ax1.yaxis.set_major_formatter(PercentFormatter(1))\n",
    "ax2.yaxis.set_major_formatter(PercentFormatter(1))\n",
    "ax2.set_ylim(0, 1)\n",
    "plt.show();"
   ]
  },
  {
   "cell_type": "markdown",
   "id": "a3d3c3a7",
   "metadata": {},
   "source": [
    "So far we see which variables are most important to the model. You might be wondering though, what information is correlating with\n",
    " the behaviour you are looking for. During which months for example were the Marketing activities most successful. We can look into\n",
    " each variable and understand their behaviour in more detail.\n",
    " Obtain the detailed variable contribution for the MONTH."
   ]
  },
  {
   "cell_type": "code",
   "execution_count": null,
   "id": "357494db",
   "metadata": {},
   "outputs": [],
   "source": [
    "variable_name = 'MONTH'\n",
    "df_category_profit = gbapl_model.get_indicators().filter(\"KEY = 'GroupNormalProfit' and VARIABLE = '\" + variable_name + \"'\").collect()\n",
    "df_category_profit = df_category_profit[['VARIABLE', 'TARGET', 'DETAIL', 'VALUE']]\n",
    "df_category_profit['VALUE'] = df_category_profit['VALUE'].astype(float)\n",
    "df_category_profit.columns = ['Predictor', 'Target','Category','Profit']\n",
    "df_category_profit = df_category_profit.sort_values(by = ['Profit'], ascending = False)\n",
    "df_category_profit.style.format({'Profit':'{0:,.2%}'}).hide(axis='index')"
   ]
  },
  {
   "cell_type": "markdown",
   "id": "815ba6b1",
   "metadata": {},
   "source": [
    "And bring these details into a plot."
   ]
  },
  {
   "cell_type": "code",
   "execution_count": null,
   "id": "4005e9c6",
   "metadata": {},
   "outputs": [],
   "source": [
    "import seaborn as sns\n",
    "import matplotlib.pyplot as plt\n",
    "from matplotlib.ticker import PercentFormatter\n",
    "plt.figure()\n",
    "bplot = sns.barplot(data = df_category_profit, x = 'Category', y = 'Profit', color = '#1f77b4')\n",
    "bplot.set_title(variable_name)\n",
    "bplot.set_xticklabels(bplot.get_xticklabels(), rotation = 45);\n",
    "bplot.yaxis.set_major_formatter(PercentFormatter(1))"
   ]
  },
  {
   "cell_type": "markdown",
   "id": "e0704a25",
   "metadata": {},
   "source": [
    "Categories on the left hand side in the above chart have the highest proportion of the target population. This means the purchasing\n",
    " affinity \\(influence\\) was highest when the customer was contacted in March, September, October or December.\n",
    " The categories are sorted in descending order of the proportion / influence. When the influence \\(y-axis\\) becomes negative, the\n",
    " target proportion of the category is lower than the overall's population. This means people were less likely to purchase. People\n",
    " were not keen to buy the product in May. In summary: the further left the category on the x-axis, the higher the affinity.\n",
    " Plot the category significance for some other variables. AGE is interesting for example. The relationship between age and purchasing\n",
    " affinity is not linear.\n",
    " For those who want to look a little deeper into the model, view the correlations between the input variables. The APL can calculate\n",
    " a full correlation matrix, as all input variables are encoded numerically. APL can deal with highly correlation variables, so you\n",
    " don't have to go this deep. However, in case there are highly correlated variables you can consider dropping these from the input\n",
    " variables to speed up the calculation time."
   ]
  },
  {
   "cell_type": "code",
   "execution_count": null,
   "id": "36632cc8",
   "metadata": {},
   "outputs": [],
   "source": [
    "df_correlations = gbapl_model.get_indicators().filter(\"KEY = 'CorrelatedVariable'\").collect()\n",
    "df_correlations = df_correlations[['VARIABLE', 'DETAIL', 'VALUE']]\n",
    "df_correlations['VALUE'] = df_correlations['VALUE'].astype(float).round(3)\n",
    "df_correlations.columns = ['1st Variable', '2nd Variable', 'Coefficient']\n",
    "df_correlations = df_correlations.sort_values(by = ['Coefficient'], ascending = False)\n",
    "df_correlations.style.hide(axis='index')"
   ]
  },
  {
   "cell_type": "markdown",
   "id": "5f7db2ac",
   "metadata": {},
   "source": [
    "There is nothing that would concern us here, but these three variables have fairly strong correlations to each other.\n",
    " Another optional deep-dive is a look at the interactions, which the model found between the variables."
   ]
  },
  {
   "cell_type": "code",
   "execution_count": null,
   "id": "57cbb9c1",
   "metadata": {},
   "outputs": [],
   "source": [
    "df_interactions = gbapl_model.get_indicators().filter(\"KEY = 'InteractionValue' and to_char(VALUE) <> '0'\").collect()\n",
    "df_interactions = df_interactions[['VARIABLE', 'DETAIL', 'VALUE']]\n",
    "df_interactions['VALUE'] = df_interactions['VALUE'].astype(float).round(3)\n",
    "df_interactions.columns = ['1st Variable', '2nd Variable', 'Interaction']\n",
    "df_interactions = df_interactions.sort_values(by = ['Interaction'], ascending = False)\n",
    "df_interactions.style.format({'Interaction':'{0:,.3f}'}).hide(axis='index')"
   ]
  },
  {
   "cell_type": "markdown",
   "id": "95302ec2",
   "metadata": {},
   "source": [
    "No strong interactions were found. We are just showing them here for you to know, that the APL's new\n",
    " GradientBoostingBinaryClassifier captures these automatically. These interactions can also be very relevant in interpreting the\n",
    " model's logic.\n",
    " Let's have a look at one further detail, that we can use later on. The model will be using SHAP scores for the predictions. With the\n",
    " complete trained model still available at the moment, we can find out the threshold score, which will be used to separate positive\n",
    " and negative predictions."
   ]
  },
  {
   "cell_type": "code",
   "execution_count": null,
   "id": "0b34f4b3",
   "metadata": {},
   "outputs": [],
   "source": [
    "df_threshold = gbapl_model.get_indicators().filter(\"KEY = 'Threshold'\").collect()\n",
    "df_threshold = df_threshold[['VARIABLE', 'VALUE']]\n",
    "df_threshold['VALUE'] = df_threshold['VALUE'].astype(float)\n",
    "df_threshold.columns = ['Target', 'Score Treshold']\n",
    "df_threshold.style.hide(axis='index')"
   ]
  },
  {
   "cell_type": "markdown",
   "id": "e19dcdd1",
   "metadata": {},
   "source": [
    "Scores below -1.15998 will lead to negative predictions. Scores above will lead to positive predictions.\n",
    " This score can be converted to the corresponding probability value:"
   ]
  },
  {
   "cell_type": "code",
   "execution_count": null,
   "id": "9634bb16",
   "metadata": {},
   "outputs": [],
   "source": [
    "import math\n",
    "score = df_threshold.iloc[0, 1]\n",
    "1 / (1 + math.exp(-score))"
   ]
  },
  {
   "cell_type": "markdown",
   "id": "04961521",
   "metadata": {},
   "source": [
    "We are now familiar with the model and could use it right away for predictions. However, it's also a good moment to save the model\n",
    " first to the SAP HANA Cloud."
   ]
  },
  {
   "cell_type": "code",
   "execution_count": null,
   "id": "aaec90df",
   "metadata": {},
   "outputs": [],
   "source": [
    "from hana_ml.model_storage import ModelStorage\n",
    "MODEL_SCHEMA = 'ML' # HANA schema in which models are to be saved\n",
    "model_storage = ModelStorage(connection_context=conn, schema = MODEL_SCHEMA)\n",
    "gbapl_model.name = 'Bank Marketing Model'\n",
    "model_storage.save_model(model=gbapl_model, if_exists = 'replace')"
   ]
  },
  {
   "cell_type": "markdown",
   "id": "cfc00f79",
   "metadata": {},
   "source": [
    "# Apply ML model\n",
    " Let's use the model to create predictions\\! Create a new Python 3 Notebook called “40 Apply ML model”.\n",
    " Connect to SAP HANA Cloud."
   ]
  },
  {
   "cell_type": "code",
   "execution_count": null,
   "id": "f7ae588f",
   "metadata": {},
   "outputs": [],
   "source": [
    "import hana_ml.dataframe as dataframe\n",
    "conn = dataframe.ConnectionContext(userkey = 'MYHANACLOUD',\n",
    "                                   encrypt = 'true')"
   ]
  },
  {
   "cell_type": "markdown",
   "id": "05ce5965",
   "metadata": {},
   "source": [
    "Create the SAP HANA DataFrame, which points to the table with the entities that need to be predicted. Sort the data for\n",
    " reproducibility."
   ]
  },
  {
   "cell_type": "code",
   "execution_count": null,
   "id": "375a4600",
   "metadata": {},
   "outputs": [],
   "source": [
    "df_remote_new = conn.table(table = 'BANKMARKETING_TOPREDICT', schema = 'ML').sort(\"CUSTOMER_ID\", desc = False)\n",
    "df_remote_new.head(5).collect()"
   ]
  },
  {
   "cell_type": "markdown",
   "id": "426a2e37",
   "metadata": {},
   "source": [
    "Load the trained ML model."
   ]
  },
  {
   "cell_type": "code",
   "execution_count": null,
   "id": "3b9b3fa3",
   "metadata": {},
   "outputs": [],
   "source": [
    "from hana_ml.model_storage import ModelStorage\n",
    "MODEL_SCHEMA = 'ML' # HANA schema from where models are to be loaded\n",
    "model_storage = ModelStorage(connection_context = conn, schema = MODEL_SCHEMA)\n",
    "gbapl_model = model_storage.load_model(name = 'Bank Marketing Model', version = 1)"
   ]
  },
  {
   "cell_type": "markdown",
   "id": "27ea635b",
   "metadata": {},
   "source": [
    "Apply the model to predict the behaviour of the two customers. For each person we obtain an overall probability of purchasing the\n",
    " product \\(proba\\_PURCHASE\\) and the yes / no prediction."
   ]
  },
  {
   "cell_type": "code",
   "execution_count": null,
   "id": "7329003b",
   "metadata": {},
   "outputs": [],
   "source": [
    "gbapl_model.set_params(extra_applyout_settings =\n",
    "                        {'APL/ApplyExtraMode': 'Advanced Apply Settings',\n",
    "                         'APL/ApplyDecision': 'true',\n",
    "                         'APL/ApplyProbability': 'true',\n",
    "                         'APL/ApplyPredictedValue': 'false'\n",
    "                        })\n",
    "df_remote_predict = gbapl_model.predict(df_remote_new)\n",
    "df_predict = df_remote_predict.head(10).collect()\n",
    "df_predict.columns = [hdr.replace('gb_', '') for hdr in df_predict.columns] # shorten column names\n",
    "df_predict.style.format({'proba_PURCHASE':'{0:,.3f}'}).hide(axis='index')"
   ]
  },
  {
   "cell_type": "markdown",
   "id": "0fef5b5a",
   "metadata": {},
   "source": [
    "If you would like to understand which characteristics of a customer contributed towards a positive or negative prediction, you can\n",
    " leverage the so called SHAP values."
   ]
  },
  {
   "cell_type": "code",
   "execution_count": null,
   "id": "1839968c",
   "metadata": {},
   "outputs": [],
   "source": [
    "gbapl_model.set_params(extra_applyout_settings={'APL/ApplyExtraMode': 'Individual Contributions'})\n",
    "df_remote_predict = gbapl_model.predict(df_remote_new)\n",
    "df_predict = df_remote_predict.head(10).collect()\n",
    "df_predict.columns = [hdr.replace(\"gb_\", \"\") for hdr in df_predict.columns] # Shorten column names\n",
    "df_predict"
   ]
  },
  {
   "cell_type": "markdown",
   "id": "41f02021",
   "metadata": {},
   "source": [
    "Each prediction relates to a SHAP value \\(score\\_PURCHASE\\), which itself is a sum of the SHAP values of the individual predictors,\n",
    " which are also shown. The higher the overall score, the higher the probability the person will purchase the product. Earlier on we\n",
    " saw the threshold that is used to differentiate between positive and negative predictions \\(1.15998 in this case\\).\n",
    " If you want to better understand how the variables contributed to these individual predictions \\(local explainable ML / AI, just\n",
    " rearrange the data format and visualise them in a plot."
   ]
  },
  {
   "cell_type": "code",
   "execution_count": null,
   "id": "69515869",
   "metadata": {},
   "outputs": [],
   "source": [
    "df_contributions_single = df_predict[df_predict['CUSTOMER_ID'] == 2]\n",
    "df_contributions_single = df_contributions_single.melt(id_vars = ['CUSTOMER_ID', 'PREDICTED', 'score_PURCHASE'])\n",
    "df_contributions_single.columns = ['CUSTOMER_ID', 'PREDICTED', 'SCORE', 'VARIABLE', 'CONTRIBUTION']\n",
    "df_contributions_single = df_contributions_single.sort_values(by = ['CONTRIBUTION'], ascending = [False])\n",
    "df_contributions_single.style.format({'CONTRIBUTION':'{0:,.3f}'})\n",
    "import seaborn as sns\n",
    "import matplotlib.pyplot as plt\n",
    "import numpy as np\n",
    "%matplotlib inline\n",
    "plt.figure()\n",
    "bar_color = np.where(df_contributions_single['CONTRIBUTION'] > 0 ,'green', 'red')\n",
    "bplot = sns.barplot(data = df_contributions_single, x = 'VARIABLE', y = 'CONTRIBUTION',  palette = bar_color.tolist())\n",
    "bplot.set_title('Contributions')\n",
    "bplot.set_xticklabels(bplot.get_xticklabels(), rotation = 90)\n",
    "plt.axhline(y = 0, color = 'grey', linewidth = 1)\n",
    "plt.ylim(-2.5, 2.5);"
   ]
  },
  {
   "cell_type": "markdown",
   "id": "a090b461",
   "metadata": {},
   "source": [
    "The above plot shows the variable's contribution for customer number 2. Towards the left the variables that contributed most\n",
    " strongly to a positive prediction are shown. The \"contrib\\_constant\\_bias\" shown in the plot is not a variable. It is an element of\n",
    " the trained model, which can be interpreted as an average, which is adjusted by the individual variables.\n",
    " Write the predictions to a table in SAP HANA Cloud, where other processes or Analytical tools like SAP Analytics Cloud can pick them\n",
    " up."
   ]
  },
  {
   "cell_type": "code",
   "execution_count": null,
   "id": "e68f92f9",
   "metadata": {},
   "outputs": [],
   "source": [
    "df_remote_predict.save(where=('ML', 'BANKMARKETING_PREDICTED'),\n",
    "                       table_type = 'COLUMN',\n",
    "                       force = True)"
   ]
  },
  {
   "cell_type": "markdown",
   "id": "349eb8ef",
   "metadata": {},
   "source": [
    "Just close the connection, and you are done."
   ]
  },
  {
   "cell_type": "code",
   "execution_count": null,
   "id": "b3ab35a4",
   "metadata": {},
   "outputs": [],
   "source": [
    "conn.close()"
   ]
  },
  {
   "cell_type": "markdown",
   "id": "61fd1064",
   "metadata": {},
   "source": [
    "# Deployment\n",
    " SAP Data Intelligence provides the platform to deploy HANA ML models into production. Its \"ML Scenario Manager\" for example combines\n",
    " Jupyter Notebooks for creation with graphical pipelines for deployment.\n",
    " You can deploy both the Automated Predictive Library \\(APL\\) and the Predictive Algorithm Library \\(PAL\\) as well as open source\n",
    " like Python or R.\n",
    " It is important that your HANA ML operators use a recent version of the Python library hana\\_ml \\(version 2.5.x\\). This is already\n",
    " the case with SAP Data Intelligence Cloud.\n",
    " # Summary\n",
    " Well done for making it to the end of this tutorial\\! You have connected to SAP HANA Cloud, uploaded and explored data, before\n",
    " training a Machine Learning model, whose logic you explored. Until eventually you applied the model to create predictions, whose\n",
    " drivers you also looked at.\n",
    " Hopefully you had fun along the way and want to work with this further\\! You can continue with the next hands-on tutorial, in which\n",
    " you score your APL model in stand-alone JavaScript. Independent of SAP HANA, this provides deployment flexibility. You could use the\n",
    " model in an IoT scenario, directly at the edge. Or wherever JavaScript can run.\n",
    " Here are some further links you might find useful.\n",
    "   - SAP HANA Python Client API for Machine Learning Algorithms\n",
    "   - Documentation SAP HANA Automated Predictive Library\n",
    "   - Sample Notebooks for the Automated Predictive Library\n",
    "   - Updates for the Data Scientist, building SAP HANA embedded Machine Learning scenarios from Python or R\n",
    " Marc Daniau and Andreas Forster\n",
    " Follow __Like __RSS Feed"
   ]
  }
 ],
 "metadata": {
  "kernelspec": {
   "display_name": "Python 3",
   "language": "python",
   "name": "python3"
  }
 },
 "nbformat": 4,
 "nbformat_minor": 5
}

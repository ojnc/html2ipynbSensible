{
 "cells": [
  {
   "cell_type": "markdown",
   "id": "6b04deec",
   "metadata": {},
   "source": [
    "**Skip to Content**\n",
    "  __\n",
    " SAP Community Log-in Update\n",
    " In a few months, SAP Community will switch to SAP Universal ID as the only option to login. Don’t wait, create your SAP Universal ID\n",
    " now\\! If you have multiple S- or P- accounts, use the Consolidation Tool to merge your content.\n",
    " Get started with SAP Universal ID\n",
    "  __\n",
    "   - Home\n",
    "   - Community\n",
    "   - Ask a Question\n",
    "   - Write a Blog Post\n",
    "   - Login / Sign-up\n",
    "   -\n",
    " ###### Technical Articles\n",
    " Marc DANIAU\n",
    " __\n",
    " April 1, 2022 4 minute read\n",
    " # Multiclass Classification with APL \\(Automated Predictive Library\\)\n",
    " __3 __6 __551\n",
    " Common machine learning scenarios such as fraud detection, customer churn, employee flight risk, aim to predict Yes/No outcomes\n",
    " using binary classification models. But sometimes the target to predict has more than just two classes. This is the case of Delivery\n",
    " Timeliness that can have three categories: Early/On-time/Late.\n",
    " From this article you will learn how to train and apply a multiclass classification model in a Python notebook with HANA ML APL.\n",
    " The following example was built using HANA ML 2.12.220325 and APL 2209.\n",
    " Census Income will be our training dataset."
   ]
  },
  {
   "cell_type": "code",
   "execution_count": null,
   "id": "c0d6d0de",
   "metadata": {},
   "outputs": [],
   "source": [
    "from hana_ml import dataframe as hd\n",
    "conn = hd.ConnectionContext(userkey='MLMDA_KEY')\n",
    "sql_cmd =  \"\"\"\n",
    "select * from apl_samples.census\n",
    "where \"marital-status\" not in (\n",
    "  select \"marital-status\" from apl_samples.census\n",
    "  group by \"marital-status\" having count(*) < 1500 )\n",
    "order by \"id\"\n",
    "\"\"\"\n",
    "hdf_train= hd.DataFrame(conn, sql_cmd)\n",
    "hdf_train.head(5).collect().style.hide(axis='index')"
   ]
  },
  {
   "cell_type": "markdown",
   "id": "8ea1bcd8",
   "metadata": {},
   "source": [
    "Let’s check the size of the HANA dataframe in number of rows."
   ]
  },
  {
   "cell_type": "code",
   "execution_count": null,
   "id": "f99bef9f",
   "metadata": {},
   "outputs": [],
   "source": [
    "hdf_train.shape[0]"
   ]
  },
  {
   "cell_type": "markdown",
   "id": "4d6daf89",
   "metadata": {},
   "source": [
    "Marital status is our multiclass target."
   ]
  },
  {
   "cell_type": "code",
   "execution_count": null,
   "id": "9f2d0251",
   "metadata": {},
   "outputs": [],
   "source": [
    "col_key = 'id'\n",
    "col_target = 'marital-status'\n",
    "col_predictors = hdf_train.columns\n",
    "col_predictors.remove(col_key)\n",
    "col_predictors.remove(col_target)\n",
    "col_predictors.remove('education-num')\n",
    "len(col_predictors)"
   ]
  },
  {
   "cell_type": "markdown",
   "id": "f80c8948",
   "metadata": {},
   "source": [
    "We do a fit and ask for a final model with no more than six variables. The processing is done within the HANA database."
   ]
  },
  {
   "cell_type": "code",
   "execution_count": null,
   "id": "43a6e2ae",
   "metadata": {},
   "outputs": [],
   "source": [
    "from hana_ml.algorithms.apl.gradient_boosting_classification import GradientBoostingClassifier\n",
    "apl_model = GradientBoostingClassifier()\n",
    "apl_model.set_params(variable_auto_selection = True,\n",
    "                     variable_selection_max_nb_of_final_variables = '6')\n",
    "apl_model.fit(hdf_train, label=col_target, key=col_key, features=col_predictors)"
   ]
  },
  {
   "cell_type": "markdown",
   "id": "033c0e72",
   "metadata": {},
   "source": [
    "The target distribution looks like this:"
   ]
  },
  {
   "cell_type": "code",
   "execution_count": null,
   "id": "abaf00ce",
   "metadata": {},
   "outputs": [],
   "source": [
    "my_filter = \"\\\"Partition\\\" = 'Estimation'\"\n",
    "df = apl_model.get_debrief_report('MultiClassTarget_Statistics').filter(my_filter).collect()\n",
    "df.drop('Oid', axis=1, inplace=True)\n",
    "df.drop('Target Key', axis=1, inplace=True)\n",
    "format_dict = {'% Weight':'{:,.2f}%', 'Weight':'{:,.0f}'}\n",
    "df.style.format(format_dict).hide(axis='index')"
   ]
  },
  {
   "cell_type": "markdown",
   "id": "ca228640",
   "metadata": {},
   "source": [
    "At this point we choose to save the APL trained model."
   ]
  },
  {
   "cell_type": "code",
   "execution_count": null,
   "id": "d8940fe4",
   "metadata": {},
   "outputs": [],
   "source": [
    "from hana_ml.model_storage import ModelStorage\n",
    "model_storage = ModelStorage(connection_context=conn, schema='USER_APL')\n",
    "apl_model.name = 'My Multiclass Model'\n",
    "model_storage.save_model(model=apl_model, if_exists='replace')\n",
    "model_storage.list_models()"
   ]
  },
  {
   "cell_type": "markdown",
   "id": "abaa1e3b",
   "metadata": {},
   "source": [
    "_One hour or one day later …_\n",
    " We are back. We load our multiclass model."
   ]
  },
  {
   "cell_type": "code",
   "execution_count": null,
   "id": "b5931df7",
   "metadata": {},
   "outputs": [],
   "source": [
    "from hana_ml import dataframe as hd\n",
    "conn = hd.ConnectionContext(userkey='MLMDA_KEY')\n",
    "from hana_ml.model_storage import ModelStorage\n",
    "model_storage = ModelStorage(connection_context=conn, schema='USER_APL')\n",
    "apl_model = model_storage.load_model(name='My Multiclass Model')\n",
    "apl_model.get_model_info()"
   ]
  },
  {
   "cell_type": "markdown",
   "id": "70b17f5e",
   "metadata": {},
   "source": [
    "We request the model reports and display first the accuracy overall."
   ]
  },
  {
   "cell_type": "code",
   "execution_count": null,
   "id": "71c6ae58",
   "metadata": {},
   "outputs": [],
   "source": [
    "from hana_ml.visualizers.unified_report import UnifiedReport\n",
    "UnifiedReport(apl_model).build().display()"
   ]
  },
  {
   "cell_type": "markdown",
   "id": "6e2d312c",
   "metadata": {},
   "source": [
    "We take a deeper look with the class-by-class report:\n",
    " Here are the variables that APL selected.\n",
    " We want to know which variables were excluded during the training, and why:"
   ]
  },
  {
   "cell_type": "code",
   "execution_count": null,
   "id": "a7e869a8",
   "metadata": {},
   "outputs": [],
   "source": [
    "df = apl_model.get_debrief_report('ClassificationRegression_VariablesExclusion').collect()\n",
    "df = df[['Variable', 'Reason For Exclusion']]\n",
    "df.style.hide(axis='index')"
   ]
  },
  {
   "cell_type": "markdown",
   "id": "7e78a367",
   "metadata": {},
   "source": [
    "We define a new dataframe with a few rows to try the APL model."
   ]
  },
  {
   "cell_type": "code",
   "execution_count": null,
   "id": "b894648f",
   "metadata": {},
   "outputs": [],
   "source": [
    "sql_cmd = 'select * from apl_samples.census where \"id\" between 550 and 554 order by \"id\"'\n",
    "hdf_apply = hd.DataFrame(conn, sql_cmd)\n",
    "hdf_apply.collect().style.hide(axis='index')"
   ]
  },
  {
   "cell_type": "markdown",
   "id": "f00a4c25",
   "metadata": {},
   "source": [
    "We do a predict and ask for the top three reasons. Again, the processing is done within the database."
   ]
  },
  {
   "cell_type": "code",
   "execution_count": null,
   "id": "18484986",
   "metadata": {},
   "outputs": [],
   "source": [
    "apl_model.set_params( extra_applyout_settings=\n",
    "{ 'APL/ApplyExtraMode': 'Advanced Apply Settings',\n",
    "  'APL/ApplyPredictedValue': 'false',\n",
    "  'APL/ApplyProbability': 'false',\n",
    "  'APL/ApplyDecision': 'true',\n",
    "  'APL/ApplyReasonCode/TopCount': '3',\n",
    "  'APL/ApplyReasonCode/ShowStrengthValue': 'false',\n",
    "  'APL/ApplyReasonCode/ShowStrengthIndicator': 'false' }\n",
    ")\n",
    "df = apl_model.predict(hdf_apply).collect()\n",
    "df.columns = ['Id', 'Actual', 'Prediction', 'Reason 1 Name', 'Reason 1 Value', 'Reason 2 Name', 'Reason 2 Value', 'Reason 3 Name', 'Reason 3 Value']\n",
    "df.style.hide(axis='index')"
   ]
  },
  {
   "cell_type": "markdown",
   "id": "d1510cad",
   "metadata": {},
   "source": [
    "One can also request the score for each class. The class with the highest score becomes the prediction."
   ]
  },
  {
   "cell_type": "code",
   "execution_count": null,
   "id": "d1a12878",
   "metadata": {},
   "outputs": [],
   "source": [
    "apl_model.set_params( extra_applyout_settings=\n",
    "{ 'APL/ApplyExtraMode': 'Advanced Apply Settings',\n",
    "  'APL/ApplyPredictedValue': 'true',\n",
    "  'APL/ApplyProbability': 'false',\n",
    "  'APL/ApplyDecision': 'true',\n",
    " }\n",
    ")\n",
    "df = apl_model.predict(hdf_apply).collect()\n",
    "df.rename(columns={'TRUE_LABEL': 'Actual','PREDICTED': 'Prediction'}, inplace=True)\n",
    "df.columns = [hdr.replace(\"gb_score_marital-status_\", \"\") for hdr in df]\n",
    "df.style.hide(axis='index')"
   ]
  },
  {
   "cell_type": "markdown",
   "id": "a7e49e18",
   "metadata": {},
   "source": [
    "Another option is to export the model equation for scoring in stand-alone JavaScript."
   ]
  },
  {
   "cell_type": "code",
   "execution_count": null,
   "id": "b93b8075",
   "metadata": {},
   "outputs": [],
   "source": [
    "apl_scoring_equation = apl_model.export_apply_code(code_type='JSON')\n",
    "text_file = open(\"apl_model.json\", \"w\")\n",
    "text_file.write(apl_scoring_equation)\n",
    "text_file.close()"
   ]
  },
  {
   "cell_type": "markdown",
   "id": "0420ac35",
   "metadata": {},
   "source": [
    "To know more about APL\n",
    " Follow __Like __RSS Feed"
   ]
  }
 ],
 "metadata": {
  "kernelspec": {
   "display_name": "Python 3",
   "language": "python",
   "name": "python3"
  }
 },
 "nbformat": 4,
 "nbformat_minor": 5
}
